{
 "cells": [
  {
   "cell_type": "code",
   "execution_count": 1,
   "id": "f96710f9-5ed6-4094-a021-a27b9304dbf2",
   "metadata": {},
   "outputs": [
    {
     "name": "stdout",
     "output_type": "stream",
     "text": [
      "Repo root: /Users/muhmmadkashif/Desktop/Project_Data_Science/Chatbot_project\n",
      "chatbot folder: /Users/muhmmadkashif/Desktop/Project_Data_Science/Chatbot_project/chatbot\n",
      "ENV exists: True\n",
      "✅ API key loaded: True\n"
     ]
    }
   ],
   "source": [
    "# ---- 01) Setup: paths and .env ----\n",
    "import os\n",
    "import pathlib\n",
    "from dotenv import load_dotenv\n",
    "\n",
    "# Resolve repo root: .../Chatbot_project\n",
    "NB_DIR = pathlib.Path.cwd()\n",
    "ROOT = NB_DIR.parent  # notebooks/ -> project root\n",
    "CHATBOT_DIR = ROOT / \"chatbot\"\n",
    "ENV_PATH = CHATBOT_DIR / \".env\"\n",
    "\n",
    "# Load the .env explicitly from chatbot/.env\n",
    "load_dotenv(dotenv_path=str(ENV_PATH))\n",
    "\n",
    "print(\"Repo root:\", ROOT)\n",
    "print(\"chatbot folder:\", CHATBOT_DIR)\n",
    "print(\"ENV exists:\", ENV_PATH.exists())\n",
    "print(\"✅ API key loaded:\", bool(os.getenv(\"OPENAI_API_KEY\")))\n"
   ]
  },
  {
   "cell_type": "code",
   "execution_count": 2,
   "id": "1bd886a9-1b18-4d0f-9412-337a219ce949",
   "metadata": {
    "scrolled": true
   },
   "outputs": [
    {
     "name": "stdout",
     "output_type": "stream",
     "text": [
      "KB exists: True\n",
      "Style exists: True\n"
     ]
    }
   ],
   "source": [
    "# ---- 02) Import the bot class ----\n",
    "import sys\n",
    "if str(ROOT) not in sys.path:\n",
    "    sys.path.insert(0, str(ROOT))  # so `from chatbot.bot import CharacterBot` works\n",
    "\n",
    "from chatbot.bot import CharacterBot\n",
    "\n",
    "KB_PATH = CHATBOT_DIR / \"bronns_kb.jsonl\"\n",
    "STYLE_PATH = CHATBOT_DIR / \"bronns_style.yml\"\n",
    "\n",
    "print(\"KB exists:\", KB_PATH.exists())\n",
    "print(\"Style exists:\", STYLE_PATH.exists())\n"
   ]
  },
  {
   "cell_type": "code",
   "execution_count": 3,
   "id": "d52c3243-3366-4de3-b7bc-466776557406",
   "metadata": {},
   "outputs": [
    {
     "name": "stdout",
     "output_type": "stream",
     "text": [
      "Bot ready.\n"
     ]
    }
   ],
   "source": [
    "# ---- 03) Create bot instance ----\n",
    "bot = CharacterBot(\n",
    "    kb_path=str(KB_PATH),\n",
    "    style_path=str(STYLE_PATH),\n",
    "    use_openai=True,        # set False to test KB-only behavior\n",
    "    model=\"gpt-4o-mini\",    # change to \"gpt-4o\" if you want\n",
    "    temperature=0.8\n",
    ")\n",
    "print(\"Bot ready.\")\n"
   ]
  },
  {
   "cell_type": "code",
   "execution_count": 4,
   "id": "62339e6d-d6c5-486f-9d20-aa024b756c76",
   "metadata": {},
   "outputs": [
    {
     "name": "stdout",
     "output_type": "stream",
     "text": [
      "\n",
      "You: Who are you?\n",
      "Bronn: I'm Bronn. Hired sword, pragmatic survivor, and master of making coin—preferably with blood on my hands.\n",
      "\n",
      "You: Tell me about Blackwater\n",
      "Bronn: Ah, the Blackwater. A lovely little river that turned into a bloodbath. I made a name for myself there, thanks to some flames and a bit of luck. Lots of dead bodies, lots of chaos—just my kind of place. Not bad for a day’s work, if you ask me.\n",
      "\n",
      "You: What do you think of Tyrion?\n",
      "Bronn: Smart bloke. Can talk his way out of anything. But he’s also a bit of a bleeding heart. Give me gold over honor any day.\n",
      "\n",
      "You: [[OOC]] difference between book and show arcs for Bronn?\n",
      "Bronn: In the \"Game of Thrones\" TV series, Bronn's arc diverges from the books primarily in his involvement with the Dornish plotline. In the show, he travels to Dorne to assist Jaime Lannister, where he engages in a flirtation with Tyene Sand and is poisoned, showcasing a more romantic and dramatic side. In contrast, the books present Bronn as a more straightforward mercenary focused on self-interest, with no equivalent storyline in Dorne. His character in the books remains primarily tied to Tyrion Lannister and his exploits in Westeros, lacking the TV show's additional complexities.\n"
     ]
    }
   ],
   "source": [
    "# ---- 04) Quick tests ----\n",
    "tests = [\n",
    "    (\"Who are you?\", False),\n",
    "    (\"Tell me about Blackwater\", False),\n",
    "    (\"What do you think of Tyrion?\", False),\n",
    "    (\"[[OOC]] difference between book and show arcs for Bronn?\", True),\n",
    "]\n",
    "\n",
    "for msg, ooc in tests:\n",
    "    print(\"\\nYou:\", msg)\n",
    "    ans = bot.get_response(msg, ooc=ooc)\n",
    "    print(\"Bronn:\", ans)\n"
   ]
  },
  {
   "cell_type": "code",
   "execution_count": null,
   "id": "1b2cc80a",
   "metadata": {},
   "outputs": [
    {
     "name": "stdout",
     "output_type": "stream",
     "text": [
      "\n",
      "💬 Bronn Chatbot Ready! Type 'exit' or 'quit' to leave.\n",
      "\n"
     ]
    },
    {
     "name": "stdin",
     "output_type": "stream",
     "text": [
      "You:  Tell me about blackwater\n"
     ]
    },
    {
     "name": "stdout",
     "output_type": "stream",
     "text": [
      "Bronn: Blackwater? A charming little river, really. Had a grand time there, didn't I? Explosions, fire, and a nice little promotion to knight. Quite the payday, if you ask me.\n"
     ]
    },
    {
     "name": "stdin",
     "output_type": "stream",
     "text": [
      "You:  difference between book and show arcs for Bronn?\n"
     ]
    },
    {
     "name": "stdout",
     "output_type": "stream",
     "text": [
      "Bronn: Well, in the books, I’m a lot more charming and clever. Show me? Just a blunt instrument. In the show, I get to play the loyal sidekick to Jaime. In the books, I’m busy doing what I do best: staying alive and collecting coin. Quite the difference, really.\n"
     ]
    }
   ],
   "source": [
    "# ---- 05) Interactive loop ----\n",
    "print(\"\\n💬 Bronn Chatbot Ready! Type 'exit' or 'quit' to leave.\\n\")\n",
    "while True:\n",
    "    try:\n",
    "        user = input(\"You: \").strip()\n",
    "    except (EOFError, KeyboardInterrupt):\n",
    "        print(\"\\nBronn: Off to the tavern then. 🍺\")\n",
    "        break\n",
    "    if user.lower() in (\"exit\", \"quit\"):\n",
    "        print(\"Bronn: Off to the tavern then. 🍺\")\n",
    "        break\n",
    "\n",
    "    # OOC toggle if user prefixes with [[OOC]]\n",
    "    ooc = False\n",
    "    clean = user\n",
    "    if user.startswith(\"[[OOC]]\"):\n",
    "        ooc = True\n",
    "        clean = user.replace(\"[[OOC]]\", \"\", 1).strip()\n",
    "\n",
    "    reply = bot.get_response(clean, ooc=ooc)\n",
    "    print(\"Bronn:\", reply)\n"
   ]
  },
  {
   "cell_type": "code",
   "execution_count": null,
   "id": "ccefe84a-ed8c-49e4-80c4-4e7490c31262",
   "metadata": {},
   "outputs": [],
   "source": []
  }
 ],
 "metadata": {
  "kernelspec": {
   "display_name": "Python 3 (ipykernel)",
   "language": "python",
   "name": "python3"
  },
  "language_info": {
   "codemirror_mode": {
    "name": "ipython",
    "version": 3
   },
   "file_extension": ".py",
   "mimetype": "text/x-python",
   "name": "python",
   "nbconvert_exporter": "python",
   "pygments_lexer": "ipython3",
   "version": "3.12.11"
  }
 },
 "nbformat": 4,
 "nbformat_minor": 5
}
